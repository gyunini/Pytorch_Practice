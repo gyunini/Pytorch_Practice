{
  "nbformat": 4,
  "nbformat_minor": 0,
  "metadata": {
    "colab": {
      "provenance": [],
      "gpuType": "T4",
      "authorship_tag": "ABX9TyPhqQsg2FeWeC6SzNiWpfKO",
      "include_colab_link": true
    },
    "kernelspec": {
      "name": "python3",
      "display_name": "Python 3"
    },
    "language_info": {
      "name": "python"
    },
    "accelerator": "GPU"
  },
  "cells": [
    {
      "cell_type": "markdown",
      "metadata": {
        "id": "view-in-github",
        "colab_type": "text"
      },
      "source": [
        "<a href=\"https://colab.research.google.com/github/gyunini/Pytorch_Practice/blob/main/%081_Pytorch_Basics.ipynb\" target=\"_parent\"><img src=\"https://colab.research.google.com/assets/colab-badge.svg\" alt=\"Open In Colab\"/></a>"
      ]
    },
    {
      "cell_type": "markdown",
      "source": [
        "# Pytorch basics\n",
        "\n",
        "## numpy to tensor"
      ],
      "metadata": {
        "id": "dtiiLsAi2MRX"
      }
    },
    {
      "cell_type": "code",
      "execution_count": null,
      "metadata": {
        "colab": {
          "base_uri": "https://localhost:8080/"
        },
        "id": "zTBUfS8srAMJ",
        "outputId": "81b420e5-1755-4d15-beb3-23eb60b35c21"
      },
      "outputs": [
        {
          "output_type": "stream",
          "name": "stdout",
          "text": [
            "[[0 1 2 3 4]\n",
            " [5 6 7 8 9]]\n",
            "ndim:  2 shape:  (2, 5)\n"
          ]
        }
      ],
      "source": [
        "import numpy as np\n",
        "\n",
        "n_array = np.arange(10).reshape(2,5)\n",
        "print(n_array)\n",
        "print(\"ndim: \", n_array.ndim, \"shape: \", n_array.shape)"
      ]
    },
    {
      "cell_type": "code",
      "source": [
        "import torch\n",
        "t_array = torch.FloatTensor(n_array) # 넘파이 어레이를 텐서로 변환\n",
        "print(t_array)\n",
        "print(\"ndim: \", t_array.ndim, \"shape: \", t_array.shape)"
      ],
      "metadata": {
        "colab": {
          "base_uri": "https://localhost:8080/"
        },
        "id": "k4Zmvdiy2qMO",
        "outputId": "4c6f9db2-0fe4-4cbc-af4c-18ee41ad0f75"
      },
      "execution_count": null,
      "outputs": [
        {
          "output_type": "stream",
          "name": "stdout",
          "text": [
            "tensor([[0., 1., 2., 3., 4.],\n",
            "        [5., 6., 7., 8., 9.]])\n",
            "ndim:  2 shape:  torch.Size([2, 5])\n"
          ]
        }
      ]
    },
    {
      "cell_type": "code",
      "source": [
        "print(t_array.shape)\n",
        "print(t_array.ndim)\n",
        "print(t_array.size())"
      ],
      "metadata": {
        "colab": {
          "base_uri": "https://localhost:8080/"
        },
        "id": "dS_YJxz-2-1Y",
        "outputId": "31b34dee-a92e-4725-85e9-68f2561796e4"
      },
      "execution_count": null,
      "outputs": [
        {
          "output_type": "stream",
          "name": "stdout",
          "text": [
            "torch.Size([2, 5])\n",
            "2\n",
            "torch.Size([2, 5])\n"
          ]
        }
      ]
    },
    {
      "cell_type": "markdown",
      "source": [
        "### Array to tensor"
      ],
      "metadata": {
        "id": "BQb1iuxq3lvK"
      }
    },
    {
      "cell_type": "markdown",
      "source": [
        "- .tensor\n",
        "- .FloatTensor\n",
        "- .from_numpy\n",
        "\n",
        "이렇게 세 가지 이용가능 근데 실제로는 이렇게 텐서를 직접 생성할 일은 별로 없음 주로 weight값들을 다루기 때문에 이렇게 생성해서 쓸 일은 별로 없음"
      ],
      "metadata": {
        "id": "XdFadOTU4HN3"
      }
    },
    {
      "cell_type": "markdown",
      "source": [
        "### Data to Tensor"
      ],
      "metadata": {
        "id": "UAPLD4hq3pv5"
      }
    },
    {
      "cell_type": "code",
      "source": [
        "data = [[3, 5], [10, 5]]\n",
        "x_data = torch.tensor(data)\n",
        "x_data"
      ],
      "metadata": {
        "colab": {
          "base_uri": "https://localhost:8080/"
        },
        "id": "GUj9os1V3HJo",
        "outputId": "9e62298a-4efa-4b6f-eaab-92c1edde998d"
      },
      "execution_count": null,
      "outputs": [
        {
          "output_type": "execute_result",
          "data": {
            "text/plain": [
              "tensor([[ 3,  5],\n",
              "        [10,  5]])"
            ]
          },
          "metadata": {},
          "execution_count": 4
        }
      ]
    },
    {
      "cell_type": "markdown",
      "source": [
        "### ndArray ro Tensor"
      ],
      "metadata": {
        "id": "wMAXaeH_30-a"
      }
    },
    {
      "cell_type": "code",
      "source": [
        "nd_array_ex = np.array(data)\n",
        "tensor_array = torch.from_numpy(nd_array_ex)\n",
        "tensor_array"
      ],
      "metadata": {
        "colab": {
          "base_uri": "https://localhost:8080/"
        },
        "id": "kogMZ7nW3zpa",
        "outputId": "7b416364-8bbb-48f5-b2f4-04c555e59d7c"
      },
      "execution_count": null,
      "outputs": [
        {
          "output_type": "execute_result",
          "data": {
            "text/plain": [
              "tensor([[ 3,  5],\n",
              "        [10,  5]])"
            ]
          },
          "metadata": {},
          "execution_count": 5
        }
      ]
    },
    {
      "cell_type": "markdown",
      "source": [
        "### numpy like operations"
      ],
      "metadata": {
        "id": "sSR3U8CA5ndS"
      }
    },
    {
      "cell_type": "code",
      "source": [
        "data = [[3, 5, 20], [10, 5, 50], [1, 5, 10]]\n",
        "x_data = torch.tensor(data)"
      ],
      "metadata": {
        "id": "s1huW9lc4Cr9"
      },
      "execution_count": null,
      "outputs": []
    },
    {
      "cell_type": "code",
      "source": [
        "x_data[1:]"
      ],
      "metadata": {
        "colab": {
          "base_uri": "https://localhost:8080/"
        },
        "id": "m6MUhFX753Qu",
        "outputId": "de9e9444-b898-4b7a-f08b-8b4a136dc267"
      },
      "execution_count": null,
      "outputs": [
        {
          "output_type": "execute_result",
          "data": {
            "text/plain": [
              "tensor([[10,  5, 50],\n",
              "        [ 1,  5, 10]])"
            ]
          },
          "metadata": {},
          "execution_count": 7
        }
      ]
    },
    {
      "cell_type": "code",
      "source": [
        "x_data[:2, 1:]"
      ],
      "metadata": {
        "colab": {
          "base_uri": "https://localhost:8080/"
        },
        "id": "opgPYdru55s5",
        "outputId": "70992218-fbd1-45f6-a5da-678611f6f39c"
      },
      "execution_count": null,
      "outputs": [
        {
          "output_type": "execute_result",
          "data": {
            "text/plain": [
              "tensor([[ 5, 20],\n",
              "        [ 5, 50]])"
            ]
          },
          "metadata": {},
          "execution_count": 8
        }
      ]
    },
    {
      "cell_type": "code",
      "source": [
        "x_data.flatten()"
      ],
      "metadata": {
        "colab": {
          "base_uri": "https://localhost:8080/"
        },
        "id": "21QLjOWi6DaL",
        "outputId": "093474c3-70bd-4768-c7a3-794e5be713d0"
      },
      "execution_count": null,
      "outputs": [
        {
          "output_type": "execute_result",
          "data": {
            "text/plain": [
              "tensor([ 3,  5, 20, 10,  5, 50,  1,  5, 10])"
            ]
          },
          "metadata": {},
          "execution_count": 9
        }
      ]
    },
    {
      "cell_type": "code",
      "source": [
        "torch.ones_like(x_data)"
      ],
      "metadata": {
        "colab": {
          "base_uri": "https://localhost:8080/"
        },
        "id": "nMBNhbYg6F7A",
        "outputId": "dabea1d7-afe2-49f0-88eb-8001076d2f5c"
      },
      "execution_count": null,
      "outputs": [
        {
          "output_type": "execute_result",
          "data": {
            "text/plain": [
              "tensor([[1, 1, 1],\n",
              "        [1, 1, 1],\n",
              "        [1, 1, 1]])"
            ]
          },
          "metadata": {},
          "execution_count": 10
        }
      ]
    },
    {
      "cell_type": "code",
      "source": [
        "x_data.numpy()"
      ],
      "metadata": {
        "colab": {
          "base_uri": "https://localhost:8080/"
        },
        "id": "4X3Cny606Pws",
        "outputId": "adc168c3-f72d-4c2b-bafa-17cd41a74819"
      },
      "execution_count": null,
      "outputs": [
        {
          "output_type": "execute_result",
          "data": {
            "text/plain": [
              "array([[ 3,  5, 20],\n",
              "       [10,  5, 50],\n",
              "       [ 1,  5, 10]])"
            ]
          },
          "metadata": {},
          "execution_count": 11
        }
      ]
    },
    {
      "cell_type": "code",
      "source": [
        "x_data.shape"
      ],
      "metadata": {
        "colab": {
          "base_uri": "https://localhost:8080/"
        },
        "id": "FRAl4Acv6SxA",
        "outputId": "f3f5c4d5-a056-40d6-8acb-5ee04e23a9df"
      },
      "execution_count": null,
      "outputs": [
        {
          "output_type": "execute_result",
          "data": {
            "text/plain": [
              "torch.Size([3, 3])"
            ]
          },
          "metadata": {},
          "execution_count": 12
        }
      ]
    },
    {
      "cell_type": "code",
      "source": [
        "x_data.dtype"
      ],
      "metadata": {
        "colab": {
          "base_uri": "https://localhost:8080/"
        },
        "id": "hdVdeNFW6Uod",
        "outputId": "8bd05f72-dbac-4dc0-8f67-52dd75478aa8"
      },
      "execution_count": null,
      "outputs": [
        {
          "output_type": "execute_result",
          "data": {
            "text/plain": [
              "torch.int64"
            ]
          },
          "metadata": {},
          "execution_count": 13
        }
      ]
    },
    {
      "cell_type": "code",
      "source": [
        "x_data.device # cpu가 나옴"
      ],
      "metadata": {
        "colab": {
          "base_uri": "https://localhost:8080/"
        },
        "id": "d57D35266W9-",
        "outputId": "77d29dde-e18b-4c73-cc0f-cffe6710dcca"
      },
      "execution_count": null,
      "outputs": [
        {
          "output_type": "execute_result",
          "data": {
            "text/plain": [
              "device(type='cpu')"
            ]
          },
          "metadata": {},
          "execution_count": 14
        }
      ]
    },
    {
      "cell_type": "markdown",
      "source": [
        "- colab은 도커로 구성되어있는 가상 컴퓨터 -> 런타임을 바꾸면 꺼졌다가 켜져서 모든 리소스가 날아감 -> 다시 한번 더 실행해야함"
      ],
      "metadata": {
        "id": "7cwWbjIc759U"
      }
    },
    {
      "cell_type": "code",
      "source": [
        "if torch.cuda.is_available():\n",
        "  x_data_cuda = x_data.to('cuda') # 런타임 유형 GPU로 바꿀 것\n",
        "x_data_cuda.device # cuda로 나옴"
      ],
      "metadata": {
        "colab": {
          "base_uri": "https://localhost:8080/"
        },
        "id": "nKl7zxz86aaS",
        "outputId": "4fadebe9-954a-45eb-f2fa-af44273bb0de"
      },
      "execution_count": null,
      "outputs": [
        {
          "output_type": "execute_result",
          "data": {
            "text/plain": [
              "device(type='cuda', index=0)"
            ]
          },
          "metadata": {},
          "execution_count": 15
        }
      ]
    },
    {
      "cell_type": "markdown",
      "source": [
        "### Tensor handling"
      ],
      "metadata": {
        "id": "mpTnV-D59bhv"
      }
    },
    {
      "cell_type": "code",
      "source": [
        "tensor_ex = torch.rand(size=(2,3,2)) # 3차원 텐서 생성\n",
        "tensor_ex"
      ],
      "metadata": {
        "colab": {
          "base_uri": "https://localhost:8080/"
        },
        "id": "R_uFE6A-7kEA",
        "outputId": "c3645108-c5e7-4197-952a-3d1233ac6609"
      },
      "execution_count": null,
      "outputs": [
        {
          "output_type": "execute_result",
          "data": {
            "text/plain": [
              "tensor([[[0.8599, 0.7181],\n",
              "         [0.2348, 0.9270],\n",
              "         [0.5134, 0.3712]],\n",
              "\n",
              "        [[0.3223, 0.9621],\n",
              "         [0.4952, 0.7450],\n",
              "         [0.8105, 0.7567]]])"
            ]
          },
          "metadata": {},
          "execution_count": 17
        }
      ]
    },
    {
      "cell_type": "code",
      "source": [
        "tensor_ex.view([-1, 6]) # 안에 배열 크기를 집어넣는다.."
      ],
      "metadata": {
        "colab": {
          "base_uri": "https://localhost:8080/"
        },
        "id": "Qi1GdEDt-IAg",
        "outputId": "d1a1310c-b725-4538-968a-3c787a62ea68"
      },
      "execution_count": null,
      "outputs": [
        {
          "output_type": "execute_result",
          "data": {
            "text/plain": [
              "tensor([[0.8599, 0.7181, 0.2348, 0.9270, 0.5134, 0.3712],\n",
              "        [0.3223, 0.9621, 0.4952, 0.7450, 0.8105, 0.7567]])"
            ]
          },
          "metadata": {},
          "execution_count": 19
        }
      ]
    },
    {
      "cell_type": "code",
      "source": [
        "tensor_ex.reshape([-1, 6])  # view나 reshape이나 똑같은 결과"
      ],
      "metadata": {
        "colab": {
          "base_uri": "https://localhost:8080/"
        },
        "id": "6LAo2VqR-RT7",
        "outputId": "a070967a-46a2-42e7-a8e5-d29192bdbf59"
      },
      "execution_count": null,
      "outputs": [
        {
          "output_type": "execute_result",
          "data": {
            "text/plain": [
              "tensor([[0.8599, 0.7181, 0.2348, 0.9270, 0.5134, 0.3712],\n",
              "        [0.3223, 0.9621, 0.4952, 0.7450, 0.8105, 0.7567]])"
            ]
          },
          "metadata": {},
          "execution_count": 20
        }
      ]
    },
    {
      "cell_type": "markdown",
      "source": [
        "- 그럼 언제 view랑 reshape이 달라지냐??\n",
        "\n",
        "https://inmoonlight.github.io/2021/03/03/PyTorch-view-transpose-reshape/"
      ],
      "metadata": {
        "id": "rFFhaUg4_NSI"
      }
    },
    {
      "cell_type": "code",
      "source": [
        "a = torch.zeros(3, 2)\n",
        "b = a.view(2, 3)\n",
        "a.fill_(1)              # torch.Tensor.fill_()"
      ],
      "metadata": {
        "colab": {
          "base_uri": "https://localhost:8080/"
        },
        "id": "F7JnWwWm-cJO",
        "outputId": "9225d1fd-7d31-4489-c0a4-9526e6ea1e31"
      },
      "execution_count": null,
      "outputs": [
        {
          "output_type": "execute_result",
          "data": {
            "text/plain": [
              "tensor([[1., 1.],\n",
              "        [1., 1.],\n",
              "        [1., 1.]])"
            ]
          },
          "metadata": {},
          "execution_count": 21
        }
      ]
    },
    {
      "cell_type": "code",
      "source": [
        "a"
      ],
      "metadata": {
        "colab": {
          "base_uri": "https://localhost:8080/"
        },
        "id": "C4BPyBDq-uUV",
        "outputId": "afad7978-9334-4df9-ec66-a84d00082a1c"
      },
      "execution_count": null,
      "outputs": [
        {
          "output_type": "execute_result",
          "data": {
            "text/plain": [
              "tensor([[1., 1.],\n",
              "        [1., 1.],\n",
              "        [1., 1.]])"
            ]
          },
          "metadata": {},
          "execution_count": 22
        }
      ]
    },
    {
      "cell_type": "code",
      "source": [
        "b # b도 1로 차있음 -> copy를 한게 아니라 메모리 주소는 똑같고 표현하는 형태만 바꿔준것"
      ],
      "metadata": {
        "colab": {
          "base_uri": "https://localhost:8080/"
        },
        "id": "PFHYAMJr_XjN",
        "outputId": "05f420d2-a36a-46c0-ffb4-255e75019c75"
      },
      "execution_count": null,
      "outputs": [
        {
          "output_type": "execute_result",
          "data": {
            "text/plain": [
              "tensor([[1., 1., 1.],\n",
              "        [1., 1., 1.]])"
            ]
          },
          "metadata": {},
          "execution_count": 23
        }
      ]
    },
    {
      "cell_type": "code",
      "source": [
        "a = torch.zeros(3, 2)\n",
        "b = a.t().reshape(6) # transpose\n",
        "a.fill_(1)"
      ],
      "metadata": {
        "colab": {
          "base_uri": "https://localhost:8080/"
        },
        "id": "OIz7y7Za_Yz1",
        "outputId": "21fdfc9c-527d-4821-8ced-c806201c807d"
      },
      "execution_count": null,
      "outputs": [
        {
          "output_type": "execute_result",
          "data": {
            "text/plain": [
              "tensor([[1., 1.],\n",
              "        [1., 1.],\n",
              "        [1., 1.]])"
            ]
          },
          "metadata": {},
          "execution_count": 24
        }
      ]
    },
    {
      "cell_type": "code",
      "source": [
        "a"
      ],
      "metadata": {
        "colab": {
          "base_uri": "https://localhost:8080/"
        },
        "id": "AcGfmy6z_09r",
        "outputId": "ab8b3f93-141b-4995-e297-1e155ce6c681"
      },
      "execution_count": null,
      "outputs": [
        {
          "output_type": "execute_result",
          "data": {
            "text/plain": [
              "tensor([[1., 1.],\n",
              "        [1., 1.],\n",
              "        [1., 1.]])"
            ]
          },
          "metadata": {},
          "execution_count": 25
        }
      ]
    },
    {
      "cell_type": "code",
      "source": [
        "b # reshape을 쓰면 달라짐 메모리는 쭉 옆으로 나열된 것인데 view는 이걸 보장해주지만 reshape은 보장 안해줌. 깨지는 순간 copy를 해버림"
      ],
      "metadata": {
        "colab": {
          "base_uri": "https://localhost:8080/"
        },
        "id": "DCY-R99J_2lN",
        "outputId": "b6ed11fd-6e1f-4c55-e9e9-cce0ed5832db"
      },
      "execution_count": null,
      "outputs": [
        {
          "output_type": "execute_result",
          "data": {
            "text/plain": [
              "tensor([0., 0., 0., 0., 0., 0.])"
            ]
          },
          "metadata": {},
          "execution_count": 26
        }
      ]
    },
    {
      "cell_type": "markdown",
      "source": [
        "- squeeze, unsqueeze"
      ],
      "metadata": {
        "id": "qNcKjM2tER51"
      }
    },
    {
      "cell_type": "code",
      "source": [
        "tensor_ex = torch.rand(size=(2,1,2))\n",
        "tensor_ex.squeeze() # 2,2 로 만듬"
      ],
      "metadata": {
        "colab": {
          "base_uri": "https://localhost:8080/"
        },
        "id": "8rV0vQCF_3id",
        "outputId": "e28a2991-3106-45ce-a5a2-7e48cdea65cb"
      },
      "execution_count": null,
      "outputs": [
        {
          "output_type": "execute_result",
          "data": {
            "text/plain": [
              "tensor([[0.7811, 0.5725],\n",
              "        [0.5780, 0.5379]])"
            ]
          },
          "metadata": {},
          "execution_count": 27
        }
      ]
    },
    {
      "cell_type": "code",
      "source": [
        "tensor_ex = torch.rand(size=(2,2))\n",
        "tensor_ex.unsqueeze(0).shape # dim(axis)0에 1을 집어넣음 # # 인덱스가 0부터 시작하므로 0은 첫번째 차원을 의미한다."
      ],
      "metadata": {
        "colab": {
          "base_uri": "https://localhost:8080/"
        },
        "id": "zjJxTGwSEcJL",
        "outputId": "a0b535c7-5892-404e-a099-2536317d92cf"
      },
      "execution_count": null,
      "outputs": [
        {
          "output_type": "execute_result",
          "data": {
            "text/plain": [
              "torch.Size([1, 2, 2])"
            ]
          },
          "metadata": {},
          "execution_count": 28
        }
      ]
    },
    {
      "cell_type": "code",
      "source": [
        "tensor_ex.unsqueeze(1).shape"
      ],
      "metadata": {
        "colab": {
          "base_uri": "https://localhost:8080/"
        },
        "id": "oeuBW3JCFFPV",
        "outputId": "a9b0d9dd-b7a6-4488-b828-da29f4492505"
      },
      "execution_count": null,
      "outputs": [
        {
          "output_type": "execute_result",
          "data": {
            "text/plain": [
              "torch.Size([2, 1, 2])"
            ]
          },
          "metadata": {},
          "execution_count": 29
        }
      ]
    },
    {
      "cell_type": "code",
      "source": [
        "tensor_ex.unsqueeze(2).shape"
      ],
      "metadata": {
        "colab": {
          "base_uri": "https://localhost:8080/"
        },
        "id": "gAmTp0ThFrIC",
        "outputId": "56f71ea9-d7ff-481f-9ade-defdc213f091"
      },
      "execution_count": null,
      "outputs": [
        {
          "output_type": "execute_result",
          "data": {
            "text/plain": [
              "torch.Size([2, 2, 1])"
            ]
          },
          "metadata": {},
          "execution_count": 30
        }
      ]
    },
    {
      "cell_type": "markdown",
      "source": [
        "### Tensor operations"
      ],
      "metadata": {
        "id": "-ljmNeOkFxFw"
      }
    },
    {
      "cell_type": "code",
      "source": [
        "n1 = np.arange(10).reshape(2, 5)\n",
        "n2 = np.arange(10).reshape(5, 2)\n",
        "t1 = torch.FloatTensor(n1)\n",
        "t2 = torch.FloatTensor(n2)\n",
        "\n",
        "t1 + t1"
      ],
      "metadata": {
        "colab": {
          "base_uri": "https://localhost:8080/"
        },
        "id": "X7-E_XrxFsiL",
        "outputId": "0a669916-5852-42f4-b480-2acc8222f794"
      },
      "execution_count": null,
      "outputs": [
        {
          "output_type": "execute_result",
          "data": {
            "text/plain": [
              "tensor([[ 0.,  2.,  4.,  6.,  8.],\n",
              "        [10., 12., 14., 16., 18.]])"
            ]
          },
          "metadata": {},
          "execution_count": 34
        }
      ]
    },
    {
      "cell_type": "code",
      "source": [
        "t1 - t1"
      ],
      "metadata": {
        "colab": {
          "base_uri": "https://localhost:8080/"
        },
        "id": "uTCKfzGzGjo-",
        "outputId": "d91e0325-d4ac-4375-aefb-68012d45ec47"
      },
      "execution_count": null,
      "outputs": [
        {
          "output_type": "execute_result",
          "data": {
            "text/plain": [
              "tensor([[0., 0., 0., 0., 0.],\n",
              "        [0., 0., 0., 0., 0.]])"
            ]
          },
          "metadata": {},
          "execution_count": 35
        }
      ]
    },
    {
      "cell_type": "code",
      "source": [
        "t1 + 10"
      ],
      "metadata": {
        "colab": {
          "base_uri": "https://localhost:8080/"
        },
        "id": "Ku9w_HgmG2t_",
        "outputId": "881ae52d-f6b6-4c70-df35-64df6ffc00ca"
      },
      "execution_count": null,
      "outputs": [
        {
          "output_type": "execute_result",
          "data": {
            "text/plain": [
              "tensor([[10., 11., 12., 13., 14.],\n",
              "        [15., 16., 17., 18., 19.]])"
            ]
          },
          "metadata": {},
          "execution_count": 36
        }
      ]
    },
    {
      "cell_type": "code",
      "source": [
        "t1 + t2 # shape이 맞지 않아서 오류"
      ],
      "metadata": {
        "colab": {
          "base_uri": "https://localhost:8080/",
          "height": 170
        },
        "id": "VJqtNJ9JG4Sj",
        "outputId": "1c48735e-f163-4227-8d69-433323f24dd7"
      },
      "execution_count": null,
      "outputs": [
        {
          "output_type": "error",
          "ename": "RuntimeError",
          "evalue": "ignored",
          "traceback": [
            "\u001b[0;31m---------------------------------------------------------------------------\u001b[0m",
            "\u001b[0;31mRuntimeError\u001b[0m                              Traceback (most recent call last)",
            "\u001b[0;32m<ipython-input-37-8f59126de035>\u001b[0m in \u001b[0;36m<cell line: 1>\u001b[0;34m()\u001b[0m\n\u001b[0;32m----> 1\u001b[0;31m \u001b[0mt1\u001b[0m \u001b[0;34m+\u001b[0m \u001b[0mt2\u001b[0m \u001b[0;31m# shape이 맞지 않아서 오류\u001b[0m\u001b[0;34m\u001b[0m\u001b[0;34m\u001b[0m\u001b[0m\n\u001b[0m",
            "\u001b[0;31mRuntimeError\u001b[0m: The size of tensor a (5) must match the size of tensor b (2) at non-singleton dimension 1"
          ]
        }
      ]
    },
    {
      "cell_type": "code",
      "source": [
        "n2 = np.arange(10).reshape(5,2)\n",
        "t2 = torch.FloatTensor(n2)\n",
        "\n",
        "t1.mm(t2) # dot을 쓰지 않고 matrix multiplication을 쓴다!!"
      ],
      "metadata": {
        "colab": {
          "base_uri": "https://localhost:8080/"
        },
        "id": "R4fxNNWeG-4Z",
        "outputId": "105fc0ca-0fc9-4b9c-e4c3-401b4283d2b3"
      },
      "execution_count": null,
      "outputs": [
        {
          "output_type": "execute_result",
          "data": {
            "text/plain": [
              "tensor([[ 60.,  70.],\n",
              "        [160., 195.]])"
            ]
          },
          "metadata": {},
          "execution_count": 38
        }
      ]
    },
    {
      "cell_type": "code",
      "source": [
        "t1.dot(t2) # 오류"
      ],
      "metadata": {
        "colab": {
          "base_uri": "https://localhost:8080/",
          "height": 170
        },
        "id": "PiPd77ijHfWz",
        "outputId": "fd07833e-7a2c-408c-e64c-2dd3eb2d1556"
      },
      "execution_count": null,
      "outputs": [
        {
          "output_type": "error",
          "ename": "RuntimeError",
          "evalue": "ignored",
          "traceback": [
            "\u001b[0;31m---------------------------------------------------------------------------\u001b[0m",
            "\u001b[0;31mRuntimeError\u001b[0m                              Traceback (most recent call last)",
            "\u001b[0;32m<ipython-input-39-90adfbb9e0eb>\u001b[0m in \u001b[0;36m<cell line: 1>\u001b[0;34m()\u001b[0m\n\u001b[0;32m----> 1\u001b[0;31m \u001b[0mt1\u001b[0m\u001b[0;34m.\u001b[0m\u001b[0mdot\u001b[0m\u001b[0;34m(\u001b[0m\u001b[0mt2\u001b[0m\u001b[0;34m)\u001b[0m \u001b[0;31m# 오류\u001b[0m\u001b[0;34m\u001b[0m\u001b[0;34m\u001b[0m\u001b[0m\n\u001b[0m",
            "\u001b[0;31mRuntimeError\u001b[0m: 1D tensors expected, but got 2D and 2D tensors"
          ]
        }
      ]
    },
    {
      "cell_type": "code",
      "source": [
        "t1.matmul(t2) # 그치만 mm을 쓰자.."
      ],
      "metadata": {
        "colab": {
          "base_uri": "https://localhost:8080/"
        },
        "id": "DcxROsolHh5y",
        "outputId": "b94f84c0-e067-4e00-8312-dca5d26319db"
      },
      "execution_count": null,
      "outputs": [
        {
          "output_type": "execute_result",
          "data": {
            "text/plain": [
              "tensor([[ 60.,  70.],\n",
              "        [160., 195.]])"
            ]
          },
          "metadata": {},
          "execution_count": 40
        }
      ]
    },
    {
      "cell_type": "markdown",
      "source": [
        "- dot은 스칼라(벡터)일때는 문제가 없다"
      ],
      "metadata": {
        "id": "ozYLuuMAIFKY"
      }
    },
    {
      "cell_type": "code",
      "source": [
        "a = torch.rand(10)\n",
        "b = torch.rand(10)\n",
        "a.dot(b)"
      ],
      "metadata": {
        "colab": {
          "base_uri": "https://localhost:8080/"
        },
        "id": "pyJ3RzoXHlqj",
        "outputId": "5c70209a-28ab-488f-8448-6df8b9ec991c"
      },
      "execution_count": null,
      "outputs": [
        {
          "output_type": "execute_result",
          "data": {
            "text/plain": [
              "tensor(1.9059)"
            ]
          },
          "metadata": {},
          "execution_count": 43
        }
      ]
    },
    {
      "cell_type": "code",
      "source": [
        "a"
      ],
      "metadata": {
        "colab": {
          "base_uri": "https://localhost:8080/"
        },
        "id": "ytJOx5q2IdOg",
        "outputId": "804857c5-523e-4f78-b413-f17904ed35bc"
      },
      "execution_count": null,
      "outputs": [
        {
          "output_type": "execute_result",
          "data": {
            "text/plain": [
              "tensor([0.7201, 0.1727, 0.5837, 0.0605, 0.0471, 0.5405, 0.4960, 0.7080, 0.3067,\n",
              "        0.4853])"
            ]
          },
          "metadata": {},
          "execution_count": 45
        }
      ]
    },
    {
      "cell_type": "code",
      "source": [
        "a = torch.rand(10)\n",
        "b = torch.rand(10)\n",
        "a.mm(b) # mm은 벡터 연산이 안된다... RuntimeError: self must be a matrix"
      ],
      "metadata": {
        "colab": {
          "base_uri": "https://localhost:8080/",
          "height": 205
        },
        "id": "UQJZLyMoIeLs",
        "outputId": "f8bdfb9d-894b-4792-838c-f2230bc17d10"
      },
      "execution_count": null,
      "outputs": [
        {
          "output_type": "error",
          "ename": "RuntimeError",
          "evalue": "ignored",
          "traceback": [
            "\u001b[0;31m---------------------------------------------------------------------------\u001b[0m",
            "\u001b[0;31mRuntimeError\u001b[0m                              Traceback (most recent call last)",
            "\u001b[0;32m<ipython-input-46-b53804119df5>\u001b[0m in \u001b[0;36m<cell line: 3>\u001b[0;34m()\u001b[0m\n\u001b[1;32m      1\u001b[0m \u001b[0ma\u001b[0m \u001b[0;34m=\u001b[0m \u001b[0mtorch\u001b[0m\u001b[0;34m.\u001b[0m\u001b[0mrand\u001b[0m\u001b[0;34m(\u001b[0m\u001b[0;36m10\u001b[0m\u001b[0;34m)\u001b[0m\u001b[0;34m\u001b[0m\u001b[0;34m\u001b[0m\u001b[0m\n\u001b[1;32m      2\u001b[0m \u001b[0mb\u001b[0m \u001b[0;34m=\u001b[0m \u001b[0mtorch\u001b[0m\u001b[0;34m.\u001b[0m\u001b[0mrand\u001b[0m\u001b[0;34m(\u001b[0m\u001b[0;36m10\u001b[0m\u001b[0;34m)\u001b[0m\u001b[0;34m\u001b[0m\u001b[0;34m\u001b[0m\u001b[0m\n\u001b[0;32m----> 3\u001b[0;31m \u001b[0ma\u001b[0m\u001b[0;34m.\u001b[0m\u001b[0mmm\u001b[0m\u001b[0;34m(\u001b[0m\u001b[0mb\u001b[0m\u001b[0;34m)\u001b[0m\u001b[0;34m\u001b[0m\u001b[0;34m\u001b[0m\u001b[0m\n\u001b[0m",
            "\u001b[0;31mRuntimeError\u001b[0m: self must be a matrix"
          ]
        }
      ]
    },
    {
      "cell_type": "markdown",
      "source": [
        "- 즉 벡터 연산과 matrix연산을 구분 했다 - dot, mm"
      ],
      "metadata": {
        "id": "xk_Z_5QwI0rE"
      }
    },
    {
      "cell_type": "code",
      "source": [
        "t1.mm(t2)"
      ],
      "metadata": {
        "colab": {
          "base_uri": "https://localhost:8080/"
        },
        "id": "x6RDMcQBIQgx",
        "outputId": "efe36c95-7d16-4ed9-ce09-f7adab2acfe5"
      },
      "execution_count": null,
      "outputs": [
        {
          "output_type": "execute_result",
          "data": {
            "text/plain": [
              "tensor([[ 60.,  70.],\n",
              "        [160., 195.]])"
            ]
          },
          "metadata": {},
          "execution_count": 47
        }
      ]
    },
    {
      "cell_type": "markdown",
      "source": [
        "- mm, matmul broadcasting"
      ],
      "metadata": {
        "id": "77TnMsPjJvXS"
      }
    },
    {
      "cell_type": "code",
      "source": [
        "a = torch.rand(5,2,3)\n",
        "b = torch.rand(3)\n",
        "a.mm(b) # 오류"
      ],
      "metadata": {
        "colab": {
          "base_uri": "https://localhost:8080/",
          "height": 205
        },
        "id": "_aShcFoxIYEc",
        "outputId": "e3e809a3-eb81-4e3e-ba9a-5ab11b544a6f"
      },
      "execution_count": null,
      "outputs": [
        {
          "output_type": "error",
          "ename": "RuntimeError",
          "evalue": "ignored",
          "traceback": [
            "\u001b[0;31m---------------------------------------------------------------------------\u001b[0m",
            "\u001b[0;31mRuntimeError\u001b[0m                              Traceback (most recent call last)",
            "\u001b[0;32m<ipython-input-52-77eba5fa269a>\u001b[0m in \u001b[0;36m<cell line: 3>\u001b[0;34m()\u001b[0m\n\u001b[1;32m      1\u001b[0m \u001b[0ma\u001b[0m \u001b[0;34m=\u001b[0m \u001b[0mtorch\u001b[0m\u001b[0;34m.\u001b[0m\u001b[0mrand\u001b[0m\u001b[0;34m(\u001b[0m\u001b[0;36m5\u001b[0m\u001b[0;34m,\u001b[0m\u001b[0;36m2\u001b[0m\u001b[0;34m,\u001b[0m\u001b[0;36m3\u001b[0m\u001b[0;34m)\u001b[0m\u001b[0;34m\u001b[0m\u001b[0;34m\u001b[0m\u001b[0m\n\u001b[1;32m      2\u001b[0m \u001b[0mb\u001b[0m \u001b[0;34m=\u001b[0m \u001b[0mtorch\u001b[0m\u001b[0;34m.\u001b[0m\u001b[0mrand\u001b[0m\u001b[0;34m(\u001b[0m\u001b[0;36m3\u001b[0m\u001b[0;34m)\u001b[0m\u001b[0;34m\u001b[0m\u001b[0;34m\u001b[0m\u001b[0m\n\u001b[0;32m----> 3\u001b[0;31m \u001b[0ma\u001b[0m\u001b[0;34m.\u001b[0m\u001b[0mmm\u001b[0m\u001b[0;34m(\u001b[0m\u001b[0mb\u001b[0m\u001b[0;34m)\u001b[0m \u001b[0;31m# 오류\u001b[0m\u001b[0;34m\u001b[0m\u001b[0;34m\u001b[0m\u001b[0m\n\u001b[0m",
            "\u001b[0;31mRuntimeError\u001b[0m: self must be a matrix"
          ]
        }
      ]
    },
    {
      "cell_type": "code",
      "source": [
        "a = torch.rand(5,2,3)\n",
        "b = torch.rand(3)\n",
        "a.mm(b) # 오류"
      ],
      "metadata": {
        "colab": {
          "base_uri": "https://localhost:8080/",
          "height": 205
        },
        "id": "r_C0mw_UJ2pf",
        "outputId": "44dd1ade-9051-42ee-a880-a1610b99e066"
      },
      "execution_count": null,
      "outputs": [
        {
          "output_type": "error",
          "ename": "RuntimeError",
          "evalue": "ignored",
          "traceback": [
            "\u001b[0;31m---------------------------------------------------------------------------\u001b[0m",
            "\u001b[0;31mRuntimeError\u001b[0m                              Traceback (most recent call last)",
            "\u001b[0;32m<ipython-input-58-77eba5fa269a>\u001b[0m in \u001b[0;36m<cell line: 3>\u001b[0;34m()\u001b[0m\n\u001b[1;32m      1\u001b[0m \u001b[0ma\u001b[0m \u001b[0;34m=\u001b[0m \u001b[0mtorch\u001b[0m\u001b[0;34m.\u001b[0m\u001b[0mrand\u001b[0m\u001b[0;34m(\u001b[0m\u001b[0;36m5\u001b[0m\u001b[0;34m,\u001b[0m\u001b[0;36m2\u001b[0m\u001b[0;34m,\u001b[0m\u001b[0;36m3\u001b[0m\u001b[0;34m)\u001b[0m\u001b[0;34m\u001b[0m\u001b[0;34m\u001b[0m\u001b[0m\n\u001b[1;32m      2\u001b[0m \u001b[0mb\u001b[0m \u001b[0;34m=\u001b[0m \u001b[0mtorch\u001b[0m\u001b[0;34m.\u001b[0m\u001b[0mrand\u001b[0m\u001b[0;34m(\u001b[0m\u001b[0;36m3\u001b[0m\u001b[0;34m)\u001b[0m\u001b[0;34m\u001b[0m\u001b[0;34m\u001b[0m\u001b[0m\n\u001b[0;32m----> 3\u001b[0;31m \u001b[0ma\u001b[0m\u001b[0;34m.\u001b[0m\u001b[0mmm\u001b[0m\u001b[0;34m(\u001b[0m\u001b[0mb\u001b[0m\u001b[0;34m)\u001b[0m \u001b[0;31m# 오류\u001b[0m\u001b[0;34m\u001b[0m\u001b[0;34m\u001b[0m\u001b[0m\n\u001b[0m",
            "\u001b[0;31mRuntimeError\u001b[0m: self must be a matrix"
          ]
        }
      ]
    },
    {
      "cell_type": "code",
      "source": [
        "a = torch.rand(5,2,3)\n",
        "b = torch.rand(3)\n",
        "a.matmul(b) # broadcasting"
      ],
      "metadata": {
        "colab": {
          "base_uri": "https://localhost:8080/"
        },
        "id": "PJCpkXUqJ7Ey",
        "outputId": "bcdb3516-a962-4f0a-93ca-818f3878e785"
      },
      "execution_count": null,
      "outputs": [
        {
          "output_type": "execute_result",
          "data": {
            "text/plain": [
              "tensor([[0.6862, 0.7895],\n",
              "        [0.5642, 0.4614],\n",
              "        [0.5392, 1.0496],\n",
              "        [0.9498, 1.0669],\n",
              "        [0.2400, 0.1652]])"
            ]
          },
          "metadata": {},
          "execution_count": 59
        }
      ]
    },
    {
      "cell_type": "markdown",
      "source": [
        "- 위에 연산을 뜯어보면"
      ],
      "metadata": {
        "id": "w-chh6pcLQ59"
      }
    },
    {
      "cell_type": "code",
      "source": [
        "print(a[0].mm(torch.unsqueeze(b,1)))\n",
        "print(a[1].mm(torch.unsqueeze(b,1)))\n",
        "print(a[2].mm(torch.unsqueeze(b,1)))\n",
        "print(a[3].mm(torch.unsqueeze(b,1)))\n",
        "print(a[4].mm(torch.unsqueeze(b,1))) # 위에랑 같은 결과\n",
        "\n",
        "a[4].mm(torch.unsqueeze(b,1)).squeeze() # 위에랑 똑같이 하려면.."
      ],
      "metadata": {
        "colab": {
          "base_uri": "https://localhost:8080/"
        },
        "id": "AWb2ER9mKOhr",
        "outputId": "62115ce8-5ea8-4992-f0f0-4238a5e944e1"
      },
      "execution_count": null,
      "outputs": [
        {
          "output_type": "stream",
          "name": "stdout",
          "text": [
            "tensor([[0.6862],\n",
            "        [0.7895]])\n",
            "tensor([[0.5642],\n",
            "        [0.4614]])\n",
            "tensor([[0.5392],\n",
            "        [1.0496]])\n",
            "tensor([[0.9498],\n",
            "        [1.0669]])\n",
            "tensor([[0.2400],\n",
            "        [0.1652]])\n"
          ]
        },
        {
          "output_type": "execute_result",
          "data": {
            "text/plain": [
              "tensor([0.2400, 0.1652])"
            ]
          },
          "metadata": {},
          "execution_count": 66
        }
      ]
    },
    {
      "cell_type": "markdown",
      "source": [
        "# tensor operations for ML/DL formula"
      ],
      "metadata": {
        "id": "kAAgTxKbMzTl"
      }
    },
    {
      "cell_type": "markdown",
      "source": [
        "- 필요할 때는 찾아봐라!"
      ],
      "metadata": {
        "id": "8Csf22NzNsII"
      }
    },
    {
      "cell_type": "code",
      "source": [
        "import torch\n",
        "import torch.nn.functional as F\n",
        "\n",
        "tensor = torch.FloatTensor([0.5, 0.7, 0.1])\n",
        "# torch.nn.functional.softmax(input, dim=None, _stacklevel=3, dtype=None)\n",
        "h_tensor = F.softmax(tensor, dim=0)\n",
        "h_tensor"
      ],
      "metadata": {
        "colab": {
          "base_uri": "https://localhost:8080/"
        },
        "id": "yYaj89VjLfwl",
        "outputId": "1d2b1d97-e505-4bf1-941a-2d72094eb94b"
      },
      "execution_count": null,
      "outputs": [
        {
          "output_type": "execute_result",
          "data": {
            "text/plain": [
              "tensor([0.3458, 0.4224, 0.2318])"
            ]
          },
          "metadata": {},
          "execution_count": 68
        }
      ]
    },
    {
      "cell_type": "code",
      "source": [
        "y = torch.randint(5, (10,5)) # 0~4 내에서 10행5열로 만들어라\n",
        "y"
      ],
      "metadata": {
        "colab": {
          "base_uri": "https://localhost:8080/"
        },
        "id": "4siJ30IzNZO-",
        "outputId": "eedff757-d6f5-4963-c9b3-91155dfa239c"
      },
      "execution_count": null,
      "outputs": [
        {
          "output_type": "execute_result",
          "data": {
            "text/plain": [
              "tensor([[0, 4, 1, 3, 2],\n",
              "        [2, 4, 1, 3, 4],\n",
              "        [2, 3, 0, 4, 2],\n",
              "        [2, 2, 2, 0, 4],\n",
              "        [0, 2, 4, 1, 0],\n",
              "        [4, 1, 1, 4, 2],\n",
              "        [2, 3, 3, 1, 1],\n",
              "        [4, 1, 1, 4, 4],\n",
              "        [4, 4, 0, 3, 2],\n",
              "        [1, 0, 1, 2, 4]])"
            ]
          },
          "metadata": {},
          "execution_count": 70
        }
      ]
    },
    {
      "cell_type": "code",
      "source": [
        "y_label = y.argmax(dim=1)\n",
        "y_label # index의 배열"
      ],
      "metadata": {
        "colab": {
          "base_uri": "https://localhost:8080/"
        },
        "id": "gxiY98ApN6Jd",
        "outputId": "3c435803-aa18-45dd-931e-48bf950ecdd8"
      },
      "execution_count": null,
      "outputs": [
        {
          "output_type": "execute_result",
          "data": {
            "text/plain": [
              "tensor([1, 1, 3, 4, 2, 0, 1, 0, 0, 4])"
            ]
          },
          "metadata": {},
          "execution_count": 72
        }
      ]
    },
    {
      "cell_type": "code",
      "source": [
        "torch.nn.functional.one_hot(y_label)"
      ],
      "metadata": {
        "colab": {
          "base_uri": "https://localhost:8080/"
        },
        "id": "TFl3apy9OEbx",
        "outputId": "19cb6a1b-cd8c-434c-9b0e-7daef571ad32"
      },
      "execution_count": null,
      "outputs": [
        {
          "output_type": "execute_result",
          "data": {
            "text/plain": [
              "tensor([[0, 1, 0, 0, 0],\n",
              "        [0, 1, 0, 0, 0],\n",
              "        [0, 0, 0, 1, 0],\n",
              "        [0, 0, 0, 0, 1],\n",
              "        [0, 0, 1, 0, 0],\n",
              "        [1, 0, 0, 0, 0],\n",
              "        [0, 1, 0, 0, 0],\n",
              "        [1, 0, 0, 0, 0],\n",
              "        [1, 0, 0, 0, 0],\n",
              "        [0, 0, 0, 0, 1]])"
            ]
          },
          "metadata": {},
          "execution_count": 73
        }
      ]
    },
    {
      "cell_type": "code",
      "source": [
        "import itertools\n",
        "a = [1,2,3]\n",
        "b = [4,5]\n",
        "list(itertools.product(a,b)) # 모든 경우의 수를 구해줌"
      ],
      "metadata": {
        "colab": {
          "base_uri": "https://localhost:8080/"
        },
        "id": "x_9_BJi3OSDl",
        "outputId": "44f84c85-d429-4248-fcb5-c8dfa3e76ca2"
      },
      "execution_count": null,
      "outputs": [
        {
          "output_type": "execute_result",
          "data": {
            "text/plain": [
              "[(1, 4), (1, 5), (2, 4), (2, 5), (3, 4), (3, 5)]"
            ]
          },
          "metadata": {},
          "execution_count": 74
        }
      ]
    },
    {
      "cell_type": "code",
      "source": [
        "tensor_a = torch.tensor(a)\n",
        "tensor_b = torch.tensor(b)\n",
        "torch.cartesian_prod(tensor_a, tensor_b) # 카르테시안 프로덕트**"
      ],
      "metadata": {
        "colab": {
          "base_uri": "https://localhost:8080/"
        },
        "id": "gNZYRaKmOfrb",
        "outputId": "ba6aa59b-f1f1-434c-ba56-d213c37c009d"
      },
      "execution_count": null,
      "outputs": [
        {
          "output_type": "execute_result",
          "data": {
            "text/plain": [
              "tensor([[1, 4],\n",
              "        [1, 5],\n",
              "        [2, 4],\n",
              "        [2, 5],\n",
              "        [3, 4],\n",
              "        [3, 5]])"
            ]
          },
          "metadata": {},
          "execution_count": 75
        }
      ]
    },
    {
      "cell_type": "markdown",
      "source": [
        "# torch autograd - 가장 핵심 기능\n",
        "\n",
        "![Screen Shot 2023-07-07 at 4.30.35 PM.png](data:image/png;base64,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)\n"
      ],
      "metadata": {
        "id": "hDH2Zv8XO7S7"
      }
    },
    {
      "cell_type": "code",
      "source": [
        "w = torch.tensor(2.0, requires_grad=True)\n",
        "y = w**2\n",
        "z = 10*y + 50\n",
        "z.backward()\n",
        "w.grad"
      ],
      "metadata": {
        "colab": {
          "base_uri": "https://localhost:8080/"
        },
        "id": "fm_4HoxMO3hH",
        "outputId": "21d2516a-b8d5-4345-bde3-5184bd86a220"
      },
      "execution_count": null,
      "outputs": [
        {
          "output_type": "execute_result",
          "data": {
            "text/plain": [
              "tensor(40.)"
            ]
          },
          "metadata": {},
          "execution_count": 76
        }
      ]
    },
    {
      "cell_type": "markdown",
      "source": [
        "![Screen Shot 2023-07-07 at 4.31.03 PM.png](data:image/png;base64,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)"
      ],
      "metadata": {
        "id": "DOkJ2SQkQwGY"
      }
    },
    {
      "cell_type": "markdown",
      "source": [
        "- 편미분"
      ],
      "metadata": {
        "id": "5yA9zB-0Qz4B"
      }
    },
    {
      "cell_type": "code",
      "source": [
        "a = torch.tensor([2., 3.], requires_grad=True)\n",
        "b = torch.tensor([6., 4.], requires_grad=True)\n",
        "\n",
        "Q = 3*a**3 - b**2\n",
        "external_grad = torch.tensor([1., 1.])\n",
        "Q.backward(gradient=external_grad)\n",
        "\n",
        "a.grad"
      ],
      "metadata": {
        "colab": {
          "base_uri": "https://localhost:8080/"
        },
        "id": "bkpeCn5iQfrg",
        "outputId": "902235a9-a6f5-456d-d8dd-779972f82c47"
      },
      "execution_count": null,
      "outputs": [
        {
          "output_type": "execute_result",
          "data": {
            "text/plain": [
              "tensor([36., 81.])"
            ]
          },
          "metadata": {},
          "execution_count": 89
        }
      ]
    },
    {
      "cell_type": "code",
      "source": [
        "b.grad"
      ],
      "metadata": {
        "colab": {
          "base_uri": "https://localhost:8080/"
        },
        "id": "b5g9NnYrRYHM",
        "outputId": "5124e13f-82c0-450d-8e3b-86f82c21b3b5"
      },
      "execution_count": null,
      "outputs": [
        {
          "output_type": "execute_result",
          "data": {
            "text/plain": [
              "tensor([-12.,  -8.])"
            ]
          },
          "metadata": {},
          "execution_count": 90
        }
      ]
    },
    {
      "cell_type": "code",
      "source": [],
      "metadata": {
        "id": "R4CREnPPSHhJ"
      },
      "execution_count": null,
      "outputs": []
    }
  ]
}